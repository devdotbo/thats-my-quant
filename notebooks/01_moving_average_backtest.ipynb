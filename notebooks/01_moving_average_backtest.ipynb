{
 "cells": [
  {
   "cell_type": "markdown",
   "metadata": {},
   "source": [
    "# Moving Average Crossover Strategy Backtest\n",
    "\n",
    "This notebook demonstrates backtesting a moving average crossover strategy using our quantitative trading framework.\n",
    "\n",
    "## Overview\n",
    "- Load and preprocess minute-level SPY data for 2024\n",
    "- Apply feature engineering to calculate technical indicators\n",
    "- Run a moving average crossover strategy\n",
    "- Analyze performance metrics and visualize results"
   ]
  },
  {
   "cell_type": "code",
   "execution_count": null,
   "metadata": {},
   "outputs": [],
   "source": [
    "# Import required libraries\n",
    "import pandas as pd\n",
    "import numpy as np\n",
    "import matplotlib.pyplot as plt\n",
    "import glob\n",
    "import sys\n",
    "from pathlib import Path\n",
    "\n",
    "# Add parent directory to path for imports\n",
    "sys.path.append('..')\n",
    "\n",
    "# Import our modules\n",
    "from src.data.preprocessor import DataPreprocessor\n",
    "from src.data.features import FeatureEngineer\n",
    "from src.strategies.examples.moving_average import MovingAverageCrossover\n",
    "from src.backtesting.engines.vectorbt_engine import VectorBTEngine\n",
    "from src.backtesting.costs import TransactionCostEngine, CommissionModel, SpreadModel, MarketImpactModel\n",
    "from src.utils.config import ConfigLoader\n",
    "\n",
    "# Configure display\n",
    "pd.set_option('display.max_columns', None)\n",
    "pd.set_option('display.width', None)\n",
    "pd.set_option('display.max_rows', 100)\n",
    "\n",
    "# Plot settings\n",
    "plt.style.use('seaborn-v0_8-darkgrid')\n",
    "plt.rcParams['figure.figsize'] = (12, 6)"
   ]
  },
  {
   "cell_type": "markdown",
   "metadata": {},
   "source": [
    "## 1. Load and Preprocess Data"
   ]
  },
  {
   "cell_type": "code",
   "execution_count": null,
   "metadata": {},
   "outputs": [],
   "source": [
    "# Load SPY data for January 2024\n",
    "spy_files = sorted(glob.glob('../data/raw/minute_aggs/by_symbol/SPY/*.csv.gz'))\n",
    "\n",
    "if not spy_files:\n",
    "    print(\"No SPY data found. Please ensure data has been downloaded and extracted.\")\n",
    "else:\n",
    "    # Load first month for quick demo\n",
    "    raw_data = pd.read_csv(spy_files[0], compression='gzip')\n",
    "    print(f\"Loaded {len(raw_data)} bars from {spy_files[0]}\")\n",
    "    print(f\"\\nData shape: {raw_data.shape}\")\n",
    "    print(f\"\\nColumns: {raw_data.columns.tolist()}\")\n",
    "    print(f\"\\nFirst few rows:\")\n",
    "    raw_data.head()"
   ]
  },
  {
   "cell_type": "code",
   "execution_count": null,
   "metadata": {},
   "outputs": [],
   "source": [
    "# Preprocess the data\n",
    "preprocessor = DataPreprocessor()\n",
    "\n",
    "# Convert to our standard format\n",
    "clean_data = preprocessor.process_polygon_data(\n",
    "    raw_data,\n",
    "    symbol='SPY',\n",
    "    cache_key='spy_jan_2024_processed'\n",
    ")\n",
    "\n",
    "print(f\"Processed data shape: {clean_data.shape}\")\n",
    "print(f\"Date range: {clean_data.index[0]} to {clean_data.index[-1]}\")\n",
    "print(f\"\\nData quality stats:\")\n",
    "print(f\"- Missing values: {clean_data.isnull().sum().sum()}\")\n",
    "print(f\"- Outliers removed: {len(raw_data) - len(clean_data)}\")\n",
    "\n",
    "# Show sample\n",
    "clean_data.head()"
   ]
  },
  {
   "cell_type": "markdown",
   "metadata": {},
   "source": [
    "## 2. Feature Engineering"
   ]
  },
  {
   "cell_type": "code",
   "execution_count": null,
   "metadata": {},
   "outputs": [],
   "source": [
    "# Calculate technical indicators\n",
    "feature_engineer = FeatureEngineer()\n",
    "\n",
    "# Add moving averages\n",
    "data_with_features = feature_engineer.add_moving_averages(\n",
    "    clean_data,\n",
    "    periods=[10, 20, 30, 50]\n",
    ")\n",
    "\n",
    "# Add other indicators\n",
    "data_with_features = feature_engineer.add_rsi(data_with_features, period=14)\n",
    "data_with_features = feature_engineer.add_atr(data_with_features, period=14)\n",
    "data_with_features = feature_engineer.add_volume_features(data_with_features)\n",
    "\n",
    "print(f\"Features added: {[col for col in data_with_features.columns if col not in clean_data.columns]}\")\n",
    "data_with_features.head()"
   ]
  },
  {
   "cell_type": "markdown",
   "metadata": {},
   "source": [
    "## 3. Strategy Configuration and Signal Generation"
   ]
  },
  {
   "cell_type": "code",
   "execution_count": null,
   "metadata": {},
   "outputs": [],
   "source": [
    "# Create strategy with custom parameters\n",
    "strategy = MovingAverageCrossover(parameters={\n",
    "    'fast_period': 10,\n",
    "    'slow_period': 30,\n",
    "    'ma_type': 'ema',\n",
    "    'use_volume_filter': True,\n",
    "    'volume_threshold': 1.2,\n",
    "    'position_sizing': 'fixed',\n",
    "    'risk_per_trade': 0.02,\n",
    "    'stop_loss': 0.02,\n",
    "    'take_profit': 0.05,\n",
    "    'use_stops': False  # Disable for initial test\n",
    "})\n",
    "\n",
    "# Generate signals\n",
    "signals = strategy.generate_signals(data_with_features)\n",
    "\n",
    "# Show signal statistics\n",
    "print(f\"Total signals generated: {(signals != 0).sum()}\")\n",
    "print(f\"Long signals: {(signals > 0).sum()}\")\n",
    "print(f\"Short signals: {(signals < 0).sum()}\")\n",
    "print(f\"\\nFirst 10 signals:\")\n",
    "signals[signals != 0].head(10)"
   ]
  },
  {
   "cell_type": "markdown",
   "metadata": {},
   "source": [
    "## 4. Backtest Execution"
   ]
  },
  {
   "cell_type": "code",
   "execution_count": null,
   "metadata": {},
   "outputs": [],
   "source": [
    "# Configure transaction costs\n",
    "commission_model = CommissionModel(model_type='per_share', rate=0.0005)\n",
    "spread_model = SpreadModel()\n",
    "impact_model = MarketImpactModel(model_type='linear', base_impact=0.0001)\n",
    "\n",
    "cost_engine = TransactionCostEngine(\n",
    "    commission_model=commission_model,\n",
    "    spread_model=spread_model,\n",
    "    market_impact_model=impact_model\n",
    ")\n",
    "\n",
    "# Create backtesting engine\n",
    "engine = VectorBTEngine(transaction_costs=cost_engine)\n",
    "\n",
    "# Run backtest\n",
    "backtest_result = engine.run_backtest(\n",
    "    strategy=strategy,\n",
    "    data=data_with_features,\n",
    "    initial_capital=100000,\n",
    "    commission=0.0005,  # Per share\n",
    "    slippage=0.0001     # 0.01%\n",
    ")\n",
    "\n",
    "# Extract portfolio\n",
    "portfolio = backtest_result['portfolio']\n",
    "print(\"Backtest completed successfully!\")"
   ]
  },
  {
   "cell_type": "markdown",
   "metadata": {},
   "source": [
    "## 5. Performance Analysis"
   ]
  },
  {
   "cell_type": "code",
   "execution_count": null,
   "metadata": {},
   "outputs": [],
   "source": [
    "# Calculate performance metrics\n",
    "metrics = backtest_result['metrics']\n",
    "\n",
    "print(\"=== Performance Summary ===\")\n",
    "print(f\"Total Return: {metrics['total_return']:.2%}\")\n",
    "print(f\"Annual Return: {metrics['annual_return']:.2%}\")\n",
    "print(f\"Sharpe Ratio: {metrics['sharpe_ratio']:.2f}\")\n",
    "print(f\"Sortino Ratio: {metrics['sortino_ratio']:.2f}\")\n",
    "print(f\"Max Drawdown: {metrics['max_drawdown']:.2%}\")\n",
    "print(f\"Win Rate: {metrics['win_rate']:.2%}\")\n",
    "print(f\"\\nTotal Trades: {metrics['total_trades']}\")\n",
    "print(f\"Winning Trades: {metrics['winning_trades']}\")\n",
    "print(f\"Losing Trades: {metrics['losing_trades']}\")\n",
    "print(f\"\\nAvg Win: ${metrics['avg_win']:.2f}\")\n",
    "print(f\"Avg Loss: ${metrics['avg_loss']:.2f}\")\n",
    "print(f\"Profit Factor: {metrics['profit_factor']:.2f}\")"
   ]
  },
  {
   "cell_type": "markdown",
   "metadata": {},
   "source": [
    "## 6. Visualization"
   ]
  },
  {
   "cell_type": "code",
   "execution_count": null,
   "metadata": {},
   "outputs": [],
   "source": [
    "# Plot equity curve\n",
    "fig, (ax1, ax2, ax3) = plt.subplots(3, 1, figsize=(12, 10), sharex=True)\n",
    "\n",
    "# Equity curve\n",
    "portfolio_value = portfolio.value()\n",
    "portfolio_value.plot(ax=ax1, label='Portfolio Value', color='blue', linewidth=2)\n",
    "ax1.set_ylabel('Portfolio Value ($)')\n",
    "ax1.set_title('Moving Average Crossover Strategy - Equity Curve')\n",
    "ax1.legend()\n",
    "ax1.grid(True, alpha=0.3)\n",
    "\n",
    "# Drawdown\n",
    "drawdown = portfolio.drawdown() * 100\n",
    "drawdown.plot(ax=ax2, label='Drawdown', color='red', linewidth=1, alpha=0.8)\n",
    "ax2.fill_between(drawdown.index, 0, drawdown, color='red', alpha=0.3)\n",
    "ax2.set_ylabel('Drawdown (%)')\n",
    "ax2.set_title('Drawdown Analysis')\n",
    "ax2.legend()\n",
    "ax2.grid(True, alpha=0.3)\n",
    "\n",
    "# Price and signals\n",
    "price_data = data_with_features['close']\n",
    "price_data.plot(ax=ax3, label='SPY Price', color='black', linewidth=1)\n",
    "\n",
    "# Mark entry points\n",
    "long_entries = price_data[signals > 0]\n",
    "short_entries = price_data[signals < 0]\n",
    "\n",
    "ax3.scatter(long_entries.index, long_entries, color='green', marker='^', \n",
    "           s=100, label='Long Entry', alpha=0.7)\n",
    "ax3.scatter(short_entries.index, short_entries, color='red', marker='v', \n",
    "           s=100, label='Short Entry', alpha=0.7)\n",
    "\n",
    "ax3.set_xlabel('Date')\n",
    "ax3.set_ylabel('Price ($)')\n",
    "ax3.set_title('Price Action with Trade Signals')\n",
    "ax3.legend()\n",
    "ax3.grid(True, alpha=0.3)\n",
    "\n",
    "plt.tight_layout()\n",
    "plt.show()"
   ]
  },
  {
   "cell_type": "code",
   "execution_count": null,
   "metadata": {},
   "outputs": [],
   "source": [
    "# Plot returns distribution\n",
    "fig, (ax1, ax2) = plt.subplots(1, 2, figsize=(12, 5))\n",
    "\n",
    "# Daily returns histogram\n",
    "daily_returns = portfolio.returns() * 100\n",
    "daily_returns.hist(ax=ax1, bins=50, alpha=0.7, color='blue', edgecolor='black')\n",
    "ax1.axvline(0, color='red', linestyle='--', linewidth=2)\n",
    "ax1.set_xlabel('Daily Return (%)')\n",
    "ax1.set_ylabel('Frequency')\n",
    "ax1.set_title('Distribution of Daily Returns')\n",
    "ax1.grid(True, alpha=0.3)\n",
    "\n",
    "# Trade analysis\n",
    "trades_df = backtest_result['trades']\n",
    "if len(trades_df) > 0:\n",
    "    trade_returns = trades_df['return'] * 100\n",
    "    positive_trades = trade_returns[trade_returns > 0]\n",
    "    negative_trades = trade_returns[trade_returns <= 0]\n",
    "    \n",
    "    ax2.hist(positive_trades, bins=20, alpha=0.7, color='green', \n",
    "             label=f'Winners ({len(positive_trades)})', edgecolor='black')\n",
    "    ax2.hist(negative_trades, bins=20, alpha=0.7, color='red', \n",
    "             label=f'Losers ({len(negative_trades)})', edgecolor='black')\n",
    "    ax2.axvline(0, color='black', linestyle='--', linewidth=2)\n",
    "    ax2.set_xlabel('Trade Return (%)')\n",
    "    ax2.set_ylabel('Frequency')\n",
    "    ax2.set_title('Trade Returns Distribution')\n",
    "    ax2.legend()\n",
    "    ax2.grid(True, alpha=0.3)\n",
    "\n",
    "plt.tight_layout()\n",
    "plt.show()"
   ]
  },
  {
   "cell_type": "markdown",
   "metadata": {},
   "source": [
    "## 7. Parameter Optimization"
   ]
  },
  {
   "cell_type": "code",
   "execution_count": null,
   "metadata": {},
   "outputs": [],
   "source": [
    "# Define parameter grid for optimization\n",
    "param_grid = {\n",
    "    'fast_period': [5, 10, 15],\n",
    "    'slow_period': [20, 30, 40],\n",
    "    'ma_type': ['sma', 'ema']\n",
    "}\n",
    "\n",
    "# Run optimization\n",
    "optimization_result = engine.optimize_parameters(\n",
    "    strategy_class=MovingAverageCrossover,\n",
    "    data=data_with_features,\n",
    "    param_grid=param_grid,\n",
    "    metric='sharpe_ratio',\n",
    "    initial_capital=100000\n",
    ")\n",
    "\n",
    "# Show top 5 parameter combinations\n",
    "print(\"Top 5 Parameter Combinations by Sharpe Ratio:\")\n",
    "print(\"=\"*60)\n",
    "for i, (params, metrics) in enumerate(optimization_result['results'][:5]):\n",
    "    print(f\"\\n{i+1}. Parameters: {params}\")\n",
    "    print(f\"   Sharpe Ratio: {metrics['sharpe_ratio']:.2f}\")\n",
    "    print(f\"   Total Return: {metrics['total_return']:.2%}\")\n",
    "    print(f\"   Max Drawdown: {metrics['max_drawdown']:.2%}\")"
   ]
  },
  {
   "cell_type": "markdown",
   "metadata": {},
   "source": [
    "## 8. Risk Analysis"
   ]
  },
  {
   "cell_type": "code",
   "execution_count": null,
   "metadata": {},
   "outputs": [],
   "source": [
    "# Calculate additional risk metrics\n",
    "returns = portfolio.returns()\n",
    "\n",
    "# Value at Risk (VaR)\n",
    "var_95 = np.percentile(returns, 5) * 100\n",
    "var_99 = np.percentile(returns, 1) * 100\n",
    "\n",
    "# Conditional Value at Risk (CVaR)\n",
    "cvar_95 = returns[returns <= np.percentile(returns, 5)].mean() * 100\n",
    "cvar_99 = returns[returns <= np.percentile(returns, 1)].mean() * 100\n",
    "\n",
    "print(\"=== Risk Metrics ===\")\n",
    "print(f\"95% VaR: {var_95:.2f}% (daily)\")\n",
    "print(f\"99% VaR: {var_99:.2f}% (daily)\")\n",
    "print(f\"95% CVaR: {cvar_95:.2f}% (daily)\")\n",
    "print(f\"99% CVaR: {cvar_99:.2f}% (daily)\")\n",
    "print(f\"\\nAnnualized Volatility: {returns.std() * np.sqrt(252) * 100:.2f}%\")\n",
    "print(f\"Downside Deviation: {returns[returns < 0].std() * np.sqrt(252) * 100:.2f}%\")\n",
    "print(f\"\\nMax Consecutive Wins: {metrics.get('max_consecutive_wins', 'N/A')}\")\n",
    "print(f\"Max Consecutive Losses: {metrics.get('max_consecutive_losses', 'N/A')}\")"
   ]
  },
  {
   "cell_type": "markdown",
   "metadata": {},
   "source": [
    "## 9. Conclusion and Next Steps\n",
    "\n",
    "This notebook demonstrated:\n",
    "1. Loading and preprocessing minute-level market data\n",
    "2. Engineering technical features\n",
    "3. Implementing and backtesting a moving average crossover strategy\n",
    "4. Analyzing performance metrics and visualizing results\n",
    "5. Optimizing strategy parameters\n",
    "\n",
    "### Next Steps:\n",
    "- Test with longer time periods (full year)\n",
    "- Compare with buy-and-hold benchmark\n",
    "- Implement more sophisticated strategies (e.g., ORB)\n",
    "- Add walk-forward validation\n",
    "- Test on multiple symbols"
   ]
  }
 ],
 "metadata": {
  "kernelspec": {
   "display_name": "Python 3",
   "language": "python",
   "name": "python3"
  },
  "language_info": {
   "codemirror_mode": {
    "name": "ipython",
    "version": 3
   },
   "file_extension": ".py",
   "mimetype": "text/x-python",
   "name": "python",
   "nbconvert_exporter": "python",
   "pygments_lexer": "ipython3",
   "version": "3.11.0"
  }
 },
 "nbformat": 4,
 "nbformat_minor": 4
}